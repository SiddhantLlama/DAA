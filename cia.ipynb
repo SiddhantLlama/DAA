{
 "cells": [
  {
   "cell_type": "markdown",
   "metadata": {},
   "source": [
    "1. Stack using Array"
   ]
  },
  {
   "cell_type": "code",
   "execution_count": 2,
   "metadata": {},
   "outputs": [
    {
     "name": "stdout",
     "output_type": "stream",
     "text": [
      "Stack:  [1, 2, 3]\n",
      "Peek:  3\n",
      "Pop:  3\n",
      "Stack after pop:  [1, 2]\n"
     ]
    }
   ],
   "source": [
    "class StackArray:\n",
    "    def __init__(self):\n",
    "        self.stack = []\n",
    "\n",
    "    def is_empty(self):\n",
    "        return len(self.stack) == 0\n",
    "\n",
    "    def push(self, item):\n",
    "        self.stack.append(item)\n",
    "\n",
    "    def pop(self):\n",
    "        if not self.is_empty():\n",
    "            return self.stack.pop()\n",
    "        else:\n",
    "            return None\n",
    "\n",
    "    def peek(self):\n",
    "        if not self.is_empty():\n",
    "            return self.stack[-1]\n",
    "        else:\n",
    "            return None\n",
    "\n",
    "    def size(self):\n",
    "        return len(self.stack)\n",
    "\n",
    "stack = StackArray()\n",
    "stack.push(1)\n",
    "stack.push(2)\n",
    "stack.push(3)\n",
    "\n",
    "print(\"Stack: \", stack.stack)  \n",
    "print(\"Peek: \", stack.peek())  \n",
    "print(\"Pop: \", stack.pop())    \n",
    "print(\"Stack after pop: \", stack.stack)  "
   ]
  },
  {
   "cell_type": "markdown",
   "metadata": {},
   "source": [
    "2. Stack using Linked List"
   ]
  },
  {
   "cell_type": "code",
   "execution_count": 3,
   "metadata": {},
   "outputs": [
    {
     "name": "stdout",
     "output_type": "stream",
     "text": [
      "Stack size:  3\n",
      "Peek:  3\n",
      "Pop:  3\n",
      "Stack size after pop:  2\n"
     ]
    }
   ],
   "source": [
    "class Node:\n",
    "    def __init__(self, data):\n",
    "        self.data = data\n",
    "        self.next = None\n",
    "\n",
    "class StackLinkedList:\n",
    "    def __init__(self):\n",
    "        self.top = None\n",
    "\n",
    "    def is_empty(self):\n",
    "        return self.top is None\n",
    "\n",
    "    def push(self, item):\n",
    "        new_node = Node(item)\n",
    "        new_node.next = self.top\n",
    "        self.top = new_node\n",
    "\n",
    "    def pop(self):\n",
    "        if not self.is_empty():\n",
    "            popped_item = self.top.data\n",
    "            self.top = self.top.next\n",
    "            return popped_item\n",
    "        else:\n",
    "            return None\n",
    "\n",
    "    def peek(self):\n",
    "        if not self.is_empty():\n",
    "            return self.top.data\n",
    "        else:\n",
    "            return None\n",
    "\n",
    "    def size(self):\n",
    "        count = 0\n",
    "        current = self.top\n",
    "        while current:\n",
    "            count += 1\n",
    "            current = current.next\n",
    "        return count\n",
    "\n",
    "stack = StackLinkedList()\n",
    "stack.push(1)\n",
    "stack.push(2)\n",
    "stack.push(3)\n",
    "\n",
    "print(\"Stack size: \", stack.size())    \n",
    "print(\"Peek: \", stack.peek())          \n",
    "print(\"Pop: \", stack.pop())            \n",
    "print(\"Stack size after pop: \", stack.size())  "
   ]
  },
  {
   "cell_type": "markdown",
   "metadata": {},
   "source": [
    "3. Queue using array"
   ]
  },
  {
   "cell_type": "code",
   "execution_count": 4,
   "metadata": {},
   "outputs": [
    {
     "name": "stdout",
     "output_type": "stream",
     "text": [
      "Queue size:  3\n",
      "Front element:  1\n",
      "Dequeue:  1\n",
      "Queue size after dequeue:  2\n"
     ]
    }
   ],
   "source": [
    "class QueueArray:\n",
    "    def __init__(self):\n",
    "        self.queue = []\n",
    "\n",
    "    def is_empty(self):\n",
    "        return len(self.queue) == 0\n",
    "\n",
    "    def enqueue(self, item):\n",
    "        self.queue.append(item)\n",
    "\n",
    "    def dequeue(self):\n",
    "        if not self.is_empty():\n",
    "            return self.queue.pop(0)\n",
    "        else:\n",
    "            return None\n",
    "\n",
    "    def front(self):\n",
    "        if not self.is_empty():\n",
    "            return self.queue[0]\n",
    "        else:\n",
    "            return None\n",
    "\n",
    "    def size(self):\n",
    "        return len(self.queue)\n",
    "\n",
    "queue = QueueArray()\n",
    "queue.enqueue(1)\n",
    "queue.enqueue(2)\n",
    "queue.enqueue(3)\n",
    "\n",
    "print(\"Queue size: \", queue.size())      \n",
    "print(\"Front element: \", queue.front())   \n",
    "print(\"Dequeue: \", queue.dequeue())       \n",
    "print(\"Queue size after dequeue: \", queue.size())  "
   ]
  },
  {
   "cell_type": "markdown",
   "metadata": {},
   "source": [
    "4. Queue using Linked List"
   ]
  },
  {
   "cell_type": "code",
   "execution_count": 5,
   "metadata": {},
   "outputs": [
    {
     "name": "stdout",
     "output_type": "stream",
     "text": [
      "Queue size:  3\n",
      "Front element:  1\n",
      "Dequeue:  1\n",
      "Queue size after dequeue:  2\n"
     ]
    }
   ],
   "source": [
    "class Node:\n",
    "    def __init__(self, data):\n",
    "        self.data = data\n",
    "        self.next = None\n",
    "\n",
    "class QueueLinkedList:\n",
    "    def __init__(self):\n",
    "        self.front = None\n",
    "        self.rear = None\n",
    "\n",
    "    def is_empty(self):\n",
    "        return self.front is None\n",
    "\n",
    "    def enqueue(self, item):\n",
    "        new_node = Node(item)\n",
    "        if self.rear is None:\n",
    "            self.front = self.rear = new_node\n",
    "            return\n",
    "        self.rear.next = new_node\n",
    "        self.rear = new_node\n",
    "\n",
    "    def dequeue(self):\n",
    "        if not self.is_empty():\n",
    "            popped_item = self.front.data\n",
    "            self.front = self.front.next\n",
    "            if self.front is None:\n",
    "                self.rear = None\n",
    "            return popped_item\n",
    "        else:\n",
    "            return None\n",
    "\n",
    "    def front_element(self):\n",
    "        if not self.is_empty():\n",
    "            return self.front.data\n",
    "        else:\n",
    "            return None\n",
    "\n",
    "    def size(self):\n",
    "        count = 0\n",
    "        current = self.front\n",
    "        while current:\n",
    "            count += 1\n",
    "            current = current.next\n",
    "        return count\n",
    "\n",
    "queue = QueueLinkedList()\n",
    "queue.enqueue(1)\n",
    "queue.enqueue(2)\n",
    "queue.enqueue(3)\n",
    "\n",
    "print(\"Queue size: \", queue.size())                \n",
    "print(\"Front element: \", queue.front_element())    \n",
    "print(\"Dequeue: \", queue.dequeue())                \n",
    "print(\"Queue size after dequeue: \", queue.size())  \n"
   ]
  },
  {
   "cell_type": "markdown",
   "metadata": {},
   "source": [
    "5. Priority Queue"
   ]
  },
  {
   "cell_type": "code",
   "execution_count": 6,
   "metadata": {},
   "outputs": [
    {
     "name": "stdout",
     "output_type": "stream",
     "text": [
      "Priority Queue size:  3\n",
      "Front element:  Task 2\n",
      "Dequeue:  Task 2\n",
      "Priority Queue size after dequeue:  2\n"
     ]
    }
   ],
   "source": [
    "import heapq\n",
    "\n",
    "class PriorityQueue:\n",
    "    def __init__(self):\n",
    "        self.heap = []\n",
    "\n",
    "    def is_empty(self):\n",
    "        return len(self.heap) == 0\n",
    "\n",
    "    def enqueue(self, item, priority):\n",
    "        heapq.heappush(self.heap, (priority, item))\n",
    "\n",
    "    def dequeue(self):\n",
    "        if not self.is_empty():\n",
    "            return heapq.heappop(self.heap)[1]\n",
    "        else:\n",
    "            return None\n",
    "\n",
    "    def front(self):\n",
    "        if not self.is_empty():\n",
    "            return self.heap[0][1]\n",
    "        else:\n",
    "            return None\n",
    "\n",
    "    def size(self):\n",
    "        return len(self.heap)\n",
    "\n",
    "priority_queue = PriorityQueue()\n",
    "priority_queue.enqueue(\"Task 1\", 3)\n",
    "priority_queue.enqueue(\"Task 2\", 1)\n",
    "priority_queue.enqueue(\"Task 3\", 2)\n",
    "\n",
    "print(\"Priority Queue size: \", priority_queue.size())       \n",
    "print(\"Front element: \", priority_queue.front())            \n",
    "print(\"Dequeue: \", priority_queue.dequeue())                \n",
    "print(\"Priority Queue size after dequeue: \", priority_queue.size())  \n"
   ]
  },
  {
   "cell_type": "markdown",
   "metadata": {},
   "source": [
    "6. Circular Queue"
   ]
  },
  {
   "cell_type": "code",
   "execution_count": null,
   "metadata": {},
   "outputs": [],
   "source": [
    "class CircularQueue:\n",
    "    def __init__(self, size):\n",
    "        self.queue = [None] * size\n",
    "        self.front = self.rear = -1\n",
    "        self.size = size\n",
    "\n",
    "    def is_empty(self):\n",
    "        return self.front == -1 and self.rear == -1\n",
    "\n",
    "    def is_full(self):\n",
    "        return (self.rear + 1) % self.size == self.front\n",
    "\n",
    "    def enqueue(self, item):\n",
    "        if self.is_full():\n",
    "            return \"Queue is full\"\n",
    "        elif self.is_empty():\n",
    "            self.front = self.rear = 0\n",
    "        else:\n",
    "            self.rear = (self.rear + 1) % self.size\n",
    "        self.queue[self.rear] = item\n",
    "\n",
    "    def dequeue(self):\n",
    "        if self.is_empty():\n",
    "            return \"Queue is empty\"\n",
    "        elif self.front == self.rear:\n",
    "            temp = self.queue[self.front]\n",
    "            self.front = self.rear = -1\n",
    "            return temp\n",
    "        else:\n",
    "            temp = self.queue[self.front]\n",
    "            self.front = (self.front + 1) % self.size\n",
    "            return temp\n",
    "\n",
    "    def front_element(self):\n",
    "        if not self.is_empty():\n",
    "            return self.queue[self.front]\n",
    "        else:\n",
    "            return None\n",
    "\n",
    "    def size(self):\n",
    "        if self.is_empty():\n",
    "            return 0\n",
    "        elif self.front <= self.rear:\n",
    "            return self.rear - self.front + 1\n",
    "        else:\n",
    "            return self.size - (self.front - self.rear) + 1\n",
    "\n",
    "circular_queue = CircularQueue(5)\n",
    "circular_queue.enqueue(1)\n",
    "circular_queue.enqueue(2)\n",
    "circular_queue.enqueue(3)\n",
    "\n",
    "print(\"Circular Queue size: \", circular_queue.size())           \n",
    "print(\"Front element: \", circular_queue.front_element())         \n",
    "print(\"Dequeue: \", circular_queue.dequeue())                    \n",
    "print(\"Circular Queue size after dequeue: \", circular_queue.size())  "
   ]
  }
 ],
 "metadata": {
  "kernelspec": {
   "display_name": "Python 3",
   "language": "python",
   "name": "python3"
  },
  "language_info": {
   "codemirror_mode": {
    "name": "ipython",
    "version": 3
   },
   "file_extension": ".py",
   "mimetype": "text/x-python",
   "name": "python",
   "nbconvert_exporter": "python",
   "pygments_lexer": "ipython3",
   "version": "3.11.4"
  }
 },
 "nbformat": 4,
 "nbformat_minor": 2
}
